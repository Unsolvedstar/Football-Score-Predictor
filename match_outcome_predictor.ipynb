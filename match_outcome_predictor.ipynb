{
 "cells": [
  {
   "cell_type": "code",
   "execution_count": 5,
   "id": "27415bf2-e124-4e3e-835c-8575cd498ddf",
   "metadata": {},
   "outputs": [
    {
     "name": "stdout",
     "output_type": "stream",
     "text": [
      "Accuracy: 0.33\n",
      "\n",
      "Classification Report:\n",
      "               precision    recall  f1-score   support\n",
      "\n",
      "    Away Win       0.54      0.20      0.29        35\n",
      "        Draw       0.19      0.15      0.17        27\n",
      "    Home Win       0.33      0.58      0.42        38\n",
      "\n",
      "    accuracy                           0.33       100\n",
      "   macro avg       0.35      0.31      0.29       100\n",
      "weighted avg       0.37      0.33      0.31       100\n",
      "\n"
     ]
    }
   ],
   "source": [
    "# Step 1: Import libraries\n",
    "import pandas as pd\n",
    "from sklearn.model_selection import train_test_split\n",
    "from sklearn.preprocessing import LabelEncoder\n",
    "from sklearn.ensemble import RandomForestClassifier\n",
    "from sklearn.metrics import classification_report, accuracy_score\n",
    "\n",
    "# Step 2: Load the data\n",
    "df = pd.read_csv(\"epl_match_outcomes_synthetic.csv\")\n",
    "\n",
    "# Step 3: Encode categorical columns\n",
    "le_team = LabelEncoder()\n",
    "df['home_team_encoded'] = le_team.fit_transform(df['home_team'])\n",
    "df['away_team_encoded'] = le_team.transform(df['away_team'])\n",
    "\n",
    "le_result = LabelEncoder()\n",
    "df['result_encoded'] = le_result.fit_transform(df['result'])\n",
    "\n",
    "# Step 4: Select features and target\n",
    "features = ['home_team_encoded', 'away_team_encoded',\n",
    "            'home_team_form', 'away_team_form',\n",
    "            'home_team_rank', 'away_team_rank',]\n",
    "           \n",
    "target = 'result_encoded'\n",
    "\n",
    "X = df[features]\n",
    "y = df[target]\n",
    "\n",
    "# Step 5: Split the data\n",
    "X_train, X_test, y_train, y_test = train_test_split(X, y, test_size=0.2, random_state=42)\n",
    "\n",
    "# Step 6: Train a Random Forest Classifier\n",
    "model = RandomForestClassifier(n_estimators=100, random_state=42)\n",
    "model.fit(X_train, y_train)\n",
    "\n",
    "# Step 7: Evaluate the model\n",
    "y_pred = model.predict(X_test)\n",
    "print(\"Accuracy:\", accuracy_score(y_test, y_pred))\n",
    "print(\"\\nClassification Report:\\n\", classification_report(y_test, y_pred, target_names=le_result.classes_))\n"
   ]
  },
  {
   "cell_type": "code",
   "execution_count": 6,
   "id": "2feee4dc-75ff-4855-b18f-f525b2d2194f",
   "metadata": {},
   "outputs": [
    {
     "name": "stdout",
     "output_type": "stream",
     "text": [
      "Predicted Result: Home Win\n"
     ]
    }
   ],
   "source": [
    "# Example: Predict an upcoming match\n",
    "sample_match = pd.DataFrame({\n",
    "    'home_team_encoded': [le_team.transform(['Arsenal'])[0]],\n",
    "    'away_team_encoded': [le_team.transform(['Chelsea'])[0]],\n",
    "    'home_team_form': [2.5],\n",
    "    'away_team_form': [1.8],\n",
    "    'home_team_rank': [3],\n",
    "    'away_team_rank': [7],\n",
    "    \n",
    "})\n",
    "\n",
    "predicted_result = model.predict(sample_match)\n",
    "print(\"Predicted Result:\", le_result.inverse_transform(predicted_result)[0])\n"
   ]
  },
  {
   "cell_type": "code",
   "execution_count": 7,
   "id": "8374418b-aac3-46a8-9526-b176d97c56bb",
   "metadata": {},
   "outputs": [
    {
     "data": {
      "text/plain": [
       "['result_encoder.pkl']"
      ]
     },
     "execution_count": 7,
     "metadata": {},
     "output_type": "execute_result"
    }
   ],
   "source": [
    "from sklearn.linear_model import LogisticRegression\n",
    "from sklearn.ensemble import GradientBoostingClassifier\n",
    "from sklearn.svm import SVC\n",
    "\n",
    "# Train different models and compare accuracy\n",
    "import joblib\n",
    "joblib.dump(model, 'match_outcome_predictor.pkl')\n",
    "joblib.dump(le_team, 'team_encoder.pkl')\n",
    "joblib.dump(le_result, 'result_encoder.pkl')\n"
   ]
  },
  {
   "cell_type": "code",
   "execution_count": 8,
   "id": "99c0090c-9c0f-4445-90c6-39bf2b2614f7",
   "metadata": {},
   "outputs": [
    {
     "name": "stderr",
     "output_type": "stream",
     "text": [
      "2025-06-17 10:49:03.429 \n",
      "  \u001b[33m\u001b[1mWarning:\u001b[0m to view this Streamlit app on a browser, run it with the following\n",
      "  command:\n",
      "\n",
      "    streamlit run C:\\Users\\Administrator\\anaconda3\\Lib\\site-packages\\ipykernel_launcher.py [ARGUMENTS]\n"
     ]
    }
   ],
   "source": [
    "import streamlit as st\n",
    "import joblib\n",
    "import pandas as pd\n",
    "\n",
    "st.title(\"Premier League Match Outcome Predictor\")\n",
    "\n",
    "model = joblib.load(\"match_outcome_predictor.pkl\")\n",
    "le_team = joblib.load(\"team_encoder.pkl\")\n",
    "le_result = joblib.load(\"result_encoder.pkl\")\n",
    "\n",
    "teams = le_team.classes_\n",
    "\n",
    "home_team = st.selectbox(\"Select Home Team\", teams)\n",
    "away_team = st.selectbox(\"Select Away Team\", teams)\n",
    "\n",
    "home_form = st.slider(\"Home Team Form\", 0.0, 5.0, 2.5)\n",
    "away_form = st.slider(\"Away Team Form\", 0.0, 5.0, 2.5)\n",
    "\n",
    "home_rank = st.slider(\"Home Team Rank\", 1, 20, 10)\n",
    "away_rank = st.slider(\"Away Team Rank\", 1, 20, 10)\n",
    "\n",
    "\n",
    "\n",
    "if st.button(\"Predict Result\"):\n",
    "    input_df = pd.DataFrame({\n",
    "        'home_team_encoded': [le_team.transform([home_team])[0]],\n",
    "        'away_team_encoded': [le_team.transform([away_team])[0]],\n",
    "        'home_team_form': [home_form],\n",
    "        'away_team_form': [away_form],\n",
    "        'home_team_rank': [home_rank],\n",
    "        'away_team_rank': [away_rank],\n",
    "        \n",
    "    })\n",
    "    \n",
    "    prediction = model.predict(input_df)\n",
    "    result = le_result.inverse_transform(prediction)[0]\n",
    "    st.success(f\"Predicted Result: {result}\")\n"
   ]
  },
  {
   "cell_type": "code",
   "execution_count": null,
   "id": "ea461933-711b-4f64-a9bc-87ec8ae36192",
   "metadata": {},
   "outputs": [],
   "source": []
  }
 ],
 "metadata": {
  "kernelspec": {
   "display_name": "Python 3 (ipykernel)",
   "language": "python",
   "name": "python3"
  },
  "language_info": {
   "codemirror_mode": {
    "name": "ipython",
    "version": 3
   },
   "file_extension": ".py",
   "mimetype": "text/x-python",
   "name": "python",
   "nbconvert_exporter": "python",
   "pygments_lexer": "ipython3",
   "version": "3.12.4"
  }
 },
 "nbformat": 4,
 "nbformat_minor": 5
}
